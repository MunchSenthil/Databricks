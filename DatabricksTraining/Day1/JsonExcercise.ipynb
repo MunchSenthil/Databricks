{
 "cells": [
  {
   "cell_type": "code",
   "execution_count": 0,
   "metadata": {
    "application/vnd.databricks.v1+cell": {
     "cellMetadata": {
      "byteLimit": 2048000,
      "rowLimit": 10000
     },
     "inputWidgets": {},
     "nuid": "b4bc9121-208f-4c51-9924-af4197f620d3",
     "showTitle": false,
     "tableResultSettingsMap": {},
     "title": ""
    }
   },
   "outputs": [],
   "source": [
    "from pyspark.sql.functions import *"
   ]
  },
  {
   "cell_type": "code",
   "execution_count": 0,
   "metadata": {
    "application/vnd.databricks.v1+cell": {
     "cellMetadata": {
      "byteLimit": 2048000,
      "rowLimit": 10000
     },
     "inputWidgets": {},
     "nuid": "b6d11e5f-fb15-4917-bd82-92e8a2302158",
     "showTitle": false,
     "tableResultSettingsMap": {},
     "title": ""
    }
   },
   "outputs": [],
   "source": [
    "df=spark.read.json(\"/Volumes/jpmc/naval/raw/1.json\")"
   ]
  },
  {
   "cell_type": "code",
   "execution_count": 0,
   "metadata": {
    "application/vnd.databricks.v1+cell": {
     "cellMetadata": {
      "byteLimit": 2048000,
      "rowLimit": 10000
     },
     "inputWidgets": {},
     "nuid": "152e537d-59f9-4427-9ba2-3eb2062436d6",
     "showTitle": false,
     "tableResultSettingsMap": {},
     "title": ""
    }
   },
   "outputs": [],
   "source": [
    "df_extractObj= (\n",
    "    df\n",
    " .withColumn(\"latitude\",col(\"location.latitude\"))\n",
    " .withColumn(\"longitude\",col(\"location.longitude\"))\n",
    " .drop(\"location\")\n",
    " .withColumn(\"body_temperature\",col(\"sensor_data.body_temperature\"))\n",
    " .withColumn(\"diastolic\",col(\"sensor_data.diastolic\"))\n",
    " .withColumn(\"heart_rate\",col(\"sensor_data.heart_rate\"))\n",
    " .withColumn(\"oxygen_saturation\",col(\"sensor_data.oxygen_saturation\"))\n",
    " .withColumn(\"pulse_rate\",col(\"sensor_data.pulse_rate\"))\n",
    " .withColumn(\"systolic\",col(\"sensor_data.systolic\"))\n",
    ".withColumn(\"temperature\",col(\"sensor_data.temperature\"))\n",
    " .drop(\"sensor_data\")\n",
    " )"
   ]
  },
  {
   "cell_type": "code",
   "execution_count": 0,
   "metadata": {
    "application/vnd.databricks.v1+cell": {
     "cellMetadata": {
      "byteLimit": 2048000,
      "rowLimit": 10000
     },
     "inputWidgets": {},
     "nuid": "731a1ee0-c744-44b9-bf7f-6866ef0c41ff",
     "showTitle": false,
     "tableResultSettingsMap": {},
     "title": ""
    }
   },
   "outputs": [],
   "source": [
    "df_extractObj.write.mode(\"overwrite\").saveAsTable(\"jpmc.manju.PatientData\")"
   ]
  },
  {
   "cell_type": "code",
   "execution_count": 0,
   "metadata": {
    "application/vnd.databricks.v1+cell": {
     "cellMetadata": {
      "byteLimit": 2048000,
      "implicitDf": true,
      "rowLimit": 10000
     },
     "inputWidgets": {},
     "nuid": "9dfafa44-c45e-495a-85f4-0db13872da06",
     "showTitle": false,
     "tableResultSettingsMap": {},
     "title": ""
    }
   },
   "outputs": [],
   "source": [
    "%sql\n",
    "select * from jpmc.manju.PatientData"
   ]
  }
 ],
 "metadata": {
  "application/vnd.databricks.v1+notebook": {
   "computePreferences": null,
   "dashboards": [],
   "environmentMetadata": {
    "base_environment": "",
    "environment_version": "2"
   },
   "inputWidgetPreferences": null,
   "language": "python",
   "notebookMetadata": {
    "mostRecentlyExecutedCommandWithImplicitDF": {
     "commandId": 5858006066647980,
     "dataframes": [
      "_sqldf"
     ]
    },
    "pythonIndentUnit": 4
   },
   "notebookName": "JsonExcercise",
   "widgets": {}
  },
  "language_info": {
   "name": "python"
  }
 },
 "nbformat": 4,
 "nbformat_minor": 0
}
